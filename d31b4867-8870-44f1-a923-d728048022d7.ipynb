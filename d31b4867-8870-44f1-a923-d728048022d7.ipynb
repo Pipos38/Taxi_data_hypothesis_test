{
 "cells": [
  {
   "cell_type": "markdown",
   "metadata": {},
   "source": [
    "¡Hola, Felipe!\n",
    "\n",
    "Mi nombre es Tonatiuh Cruz. Me complace revisar tu proyecto hoy.\n",
    "\n",
    "Al identificar cualquier error inicialmente, simplemente los destacaré. Te animo a localizar y abordar los problemas de forma independiente como parte de tu preparación para un rol como data-analyst. En un entorno profesional, tu líder de equipo seguiría un enfoque similar. Si encuentras la tarea desafiante, proporcionaré una pista más específica en la próxima iteración.\n",
    "\n",
    "Encontrarás mis comentarios a continuación - **por favor no los muevas, modifiques o elimines**.\n",
    "\n",
    "Puedes encontrar mis comentarios en cajas verdes, amarillas o rojas como esta:\n",
    "\n",
    "<div class=\"alert alert-block alert-success\">\n",
    "<b>Comentario del revisor</b> <a class=\"tocSkip\"></a>\n",
    "\n",
    "Éxito. Todo está hecho correctamente.\n",
    "</div>\n",
    "\n",
    "<div class=\"alert alert-block alert-warning\">\n",
    "<b>Comentario del revisor</b> <a class=\"tocSkip\"></a>\n",
    "\n",
    "Observaciones. Algunas recomendaciones.\n",
    "</div>\n",
    "\n",
    "<div class=\"alert alert-block alert-danger\">\n",
    "<b>Comentario del revisor</b> <a class=\"tocSkip\"></a>\n",
    "\n",
    "Necesita corrección. El bloque requiere algunas correcciones. El trabajo no puede ser aceptado con comentarios en rojo.\n",
    "</div>\n",
    "\n",
    "Puedes responderme utilizando esto:\n",
    "\n",
    "<div class=\"alert alert-block alert-info\">\n",
    "<b>Respuesta del estudiante.</b> <a class=\"tocSkip\"></a>"
   ]
  },
  {
   "cell_type": "markdown",
   "metadata": {},
   "source": [
    "<div class=\"alert alert-block alert-success\">\n",
    "<b>Resumen de la revisión 1</b> <a class=\"tocSkip\"></a>\n",
    "\n",
    "Hola, Felipe! Tu trabajo es excelente, solo te hice un par de recomendaciones mínimas para mejorar algunas visualizaciones y te dejé un comentario acerca de un filtro que te faltó para usar los datos requeridos en la prueba de hipótesis. Una vez hayas atendido este último comentario principalmente, tu proyecto quedará aprobado. Quedo pendiente de tus dudas y comentarios.\n",
    "</div>"
   ]
  },
  {
   "cell_type": "markdown",
   "metadata": {},
   "source": [
    "## Paso 1. Descripción de los datos\n",
    "\n",
    "\n",
    "Abre los archivos de datos y estudia la información general \n",
    "- Ruta de archivo:/datasets/project_sql_result_01.csv. Descarga el dataset 01\n",
    "- Ruta de archivo:/datasets/project_sql_result_04.csv. Descarga el dataset 04\n",
    "- Ruta de archivo:/datasets/project_sql_result_07.csv. Descarga el dataset 07"
   ]
  },
  {
   "cell_type": "markdown",
   "metadata": {},
   "source": [
    "## Paso 2. Preparación y Carga de datos\n",
    "\n",
    "\n"
   ]
  },
  {
   "cell_type": "code",
   "execution_count": null,
   "metadata": {},
   "outputs": [],
   "source": [
    "import pandas as pd\n",
    "import matplotlib.pyplot as plt\n",
    "import scipy.stats as stats\n",
    "\n",
    "file_01_path = \"/mnt/data/moved_project_sql_result_01.csv\"\n",
    "file_04_path = \"/mnt/data/moved_project_sql_result_04.csv\"\n",
    "file_07_path = \"/mnt/data/moved_project_sql_result_07.csv\"\n",
    "\n",
    "df_01 = pd.read_csv(file_01_path, delimiter=';')\n",
    "df_04 = pd.read_csv(file_04_path, delimiter=';')\n",
    "df_07 = pd.read_csv(file_07_path, delimiter=';')\n",
    "\n",
    "df_01.head()\n",
    "df_04.head()\n",
    "df_07.head()"
   ]
  },
  {
   "cell_type": "markdown",
   "metadata": {},
   "source": [
    "<div class=\"alert alert-block alert-success\">\n",
    "\n",
    "<b>Comentario del revisor</b> <a class=\"tocSkip\"></a>\n",
    "\n",
    "Gran trabajo con la carga de la información y las librerias necesarias para el análisis. "
   ]
  },
  {
   "cell_type": "markdown",
   "metadata": {},
   "source": [
    "## Paso 3. Estudio y Preparación de datos"
   ]
  },
  {
   "cell_type": "code",
   "execution_count": null,
   "metadata": {},
   "outputs": [],
   "source": [
    "# Eliminar espacios en los nombres de columnas ---\n",
    "df_01.columns = df_01.columns.str.strip()\n",
    "df_04.columns = df_04.columns.str.strip()\n",
    "\n",
    "# Identificar valores nulos antes de la limpieza ---\n",
    "print(\"Valores Nulos Antes de la Limpieza:\")\n",
    "print(df_01.isnull().sum())\n",
    "print(df_04.isnull().sum())\n",
    "\n",
    "# Ver tipos de datos antes de la conversión ---\n",
    "print(\"\\nTipos de Datos Antes de la Conversión:\")\n",
    "print(df_01.dtypes)\n",
    "print(df_04.dtypes)\n",
    "\n",
    "# Análisis de duplicados antes de la limpieza ---\n",
    "print(\"\\nDuplicados en df_01 antes de la limpieza:\", df_01.duplicated().sum())\n",
    "print(\"Duplicados en df_04 antes de la limpieza:\", df_04.duplicated().sum())\n",
    "\n",
    "# Ver ejemplos de duplicados\n",
    "print(\"\\nEjemplo de filas duplicadas en df_01:\")\n",
    "print(df_01[df_01.duplicated()].head())\n",
    "\n",
    "print(\"\\nEjemplo de filas duplicadas en df_04:\")\n",
    "print(df_04[df_04.duplicated()].head())\n",
    "\n",
    "# Eliminar filas duplicadas ---\n",
    "df_01_clean = df_01.drop_duplicates()\n",
    "df_04_clean = df_04.drop_duplicates()\n",
    "\n",
    "# Eliminar filas con valores nulos en columnas numéricas ---\n",
    "df_01_clean = df_01_clean.dropna(subset=['trips_amount'])\n",
    "df_04_clean = df_04_clean.dropna(subset=['average_trips'])\n",
    "\n",
    "# Reemplazar valores nulos en columnas categóricas con \"Desconocido\" ---\n",
    "df_01_clean['company_name'] = df_01_clean['company_name'].fillna('Desconocido')\n",
    "df_04_clean['dropoff_location_name'] = df_04_clean['dropoff_location_name'].fillna('Desconocido')\n",
    "\n",
    "# Conversión de tipos de datos ---\n",
    "df_01_clean['trips_amount'] = df_01_clean['trips_amount'].astype(int)\n",
    "df_04_clean['average_trips'] = df_04_clean['average_trips'].astype(int)\n",
    "\n",
    "# Confirmar que los duplicados fueron eliminados ---\n",
    "print(\"\\nDuplicados en df_01 después de la limpieza:\", df_01_clean.duplicated().sum())\n",
    "print(\"Duplicados en df_04 después de la limpieza:\", df_04_clean.duplicated().sum())\n"
   ]
  },
  {
   "cell_type": "markdown",
   "metadata": {},
   "source": [
    "<div class=\"alert alert-block alert-danger\">\n",
    "\n",
    "<b>Comentario del revisor</b> <a class=\"tocSkip\"></a>\n",
    "\n",
    "Para estos análisis iniciales te recomiendo realizar un análisis de duplicados \n",
    "\n",
    "\n"
   ]
  },
  {
   "cell_type": "markdown",
   "metadata": {},
   "source": [
    "<div class=\"alert alert-block alert-success\">\n",
    "\n",
    "<b>Comentario del revisor</b> <a class=\"tocSkip\"></a>\n",
    "\n",
    "Excelente trabajo con los ajustes!\n",
    "\n"
   ]
  },
  {
   "cell_type": "markdown",
   "metadata": {},
   "source": [
    "## Paso 4. Análisis de Datos"
   ]
  },
  {
   "cell_type": "markdown",
   "metadata": {},
   "source": [
    "### ¿Cuales son las 10 principales empresas de taxis por número de viajes y los 10 barrios con más finalización de recorridos?"
   ]
  },
  {
   "cell_type": "code",
   "execution_count": null,
   "metadata": {},
   "outputs": [],
   "source": [
    "\n",
    "\n",
    "# Identificar los 10 principales barrios en términos de finalización del recorrido\n",
    "top_10_neighborhoods = df_04_clean.nlargest(10, 'average_trips')\n",
    "\n",
    "# Crear gráfico de barras para los 10 principales barrios\n",
    "plt.figure(figsize=(12, 6))\n",
    "plt.barh(top_10_neighborhoods['dropoff_location_name'], top_10_neighborhoods['average_trips'], color='green')\n",
    "plt.xlabel(\"Promedio de viajes finalizados\")\n",
    "plt.ylabel(\"Barrio\")\n",
    "plt.title(\"Top 10 barrios con mayor número de viajes finalizados en noviembre de 2017\")\n",
    "plt.gca().invert_yaxis()  # Invertir el eje Y para mostrar el barrio con más viajes arriba\n",
    "plt.show()\n",
    "\n",
    "# Identificar las 10 principales empresas de taxis en términos de número de viajes\n",
    "top_10_companies = df_01_clean.nlargest(10, 'trips_amount')\n",
    "\n",
    "# Crear gráfico de barras para las 10 principales empresas de taxis\n",
    "plt.figure(figsize=(12, 6))\n",
    "plt.barh(top_10_companies['company_name'], top_10_companies['trips_amount'], color='blue')\n",
    "plt.xlabel(\"Número de viajes\")\n",
    "plt.ylabel(\"Empresa de taxis\")\n",
    "plt.title(\"Top 10 empresas de taxis por número de viajes (15-16 noviembre 2017)\")\n",
    "plt.gca().invert_yaxis()  # Invertir el eje Y para mostrar la empresa con más viajes arriba\n",
    "plt.show()\n",
    "\n"
   ]
  },
  {
   "cell_type": "markdown",
   "metadata": {},
   "source": [
    "<div class=\"alert alert-block alert-success\">\n",
    "\n",
    "<b>Comentario del revisor</b> <a class=\"tocSkip\"></a>\n",
    "\n",
    "Muy buen trabajo con el desarrollo de la gráfica para visualizar los resultados.En esta muestras top 10 de las principales empresas con número de viajes. "
   ]
  },
  {
   "cell_type": "markdown",
   "metadata": {},
   "source": [
    "Los viajes en taxi están muy concentrados en ciertas áreas y compañías. El Loop, O'Hare y River North son los principales destinos en la ciudad. Adicional, Flash Cab domina la industria, pero hay otras empresas competitivas.\n",
    "Los datos sugieren que la movilidad en taxi está influenciada por la actividad comercial, el turismo y el transporte al aeropuerto."
   ]
  },
  {
   "cell_type": "markdown",
   "metadata": {},
   "source": [
    "### Prueba de hipotesis y Método de prueba\n",
    "\n",
    "\"La duración promedio de los viajes desde el Loop hasta el Aeropuerto Internacional O'Hare cambia los sábados lluviosos\".\n",
    "\n",
    " - Hipótesis Nula (H₀):\n",
    "\"La duración promedio de los viajes desde el Loop hasta el Aeropuerto O’Hare no cambia en los sábados lluviosos. Es decir, la duración de los viajes en días con lluvia es igual a la de días sin lluvia.\"\n",
    "\n",
    " \n",
    " - Hipótesis Alternativa (H₁):\n",
    "\"La duración promedio de los viajes desde el Loop hasta el Aeropuerto O’Hare es diferente en los sábados lluviosos. Es decir, la lluvia afecta la duración del viaje.\"\n",
    "\n",
    "\n",
    " - Nivel de significación (α):\n",
    "Establecemos α = 0.05 (5%), lo que significa que aceptaremos un 5% de probabilidad de cometer un error tipo I (rechazar la hipótesis nula cuando es verdadera).\n",
    "\n",
    "\n",
    " - Método de Prueba:\n",
    " Se ha realizado una prueba t de Student para comparar la duración promedio de los viajes en sábados lluviosos y sábados sin lluvia."
   ]
  },
  {
   "cell_type": "code",
   "execution_count": null,
   "metadata": {},
   "outputs": [],
   "source": [
    "# Convertir start_ts a formato de fecha y hora\n",
    "df_07['start_ts'] = pd.to_datetime(df_07['start_ts'])\n",
    "\n",
    "# Convertir duration_seconds a tipo int (si viene como float o string)\n",
    "df_07['duration_seconds'] = df_07['duration_seconds'].astype(int)\n",
    "\n",
    "# Eliminar duplicados\n",
    "df_07_clean = df_07.drop_duplicates()\n",
    "\n",
    "# Visualizar los valores atípicos con un Boxplot ---\n",
    "plt.figure(figsize=(10, 5))\n",
    "plt.boxplot(df_07_clean['duration_seconds'])\n",
    "plt.title('Distribución de duration_seconds (antes de eliminar outliers)')\n",
    "plt.ylabel('Duración en segundos')\n",
    "plt.show()\n",
    "\n",
    "# Detectar y eliminar outliers usando el método IQR ---\n",
    "def filtrar_outliers_iqr(df, columna):\n",
    "    Q1 = df[columna].quantile(0.25)  # Primer cuartil (Q1)\n",
    "    Q3 = df[columna].quantile(0.75)  # Tercer cuartil (Q3)\n",
    "    IQR = Q3 - Q1  # Rango intercuartil\n",
    "    \n",
    "    # Definir límites para eliminar outliers\n",
    "    limite_inferior = Q1 - 1.5 * IQR\n",
    "    limite_superior = Q3 + 1.5 * IQR\n",
    "    \n",
    "    # Filtrar los datos dentro del rango aceptable\n",
    "    df_filtrado = df[(df[columna] >= limite_inferior) & (df[columna] <= limite_superior)]\n",
    "    \n",
    "    return df_filtrado\n",
    "\n",
    "# Aplicar el filtro de outliers en la duración de los viajes\n",
    "df_07_filtrado = filtrar_outliers_iqr(df_07_clean, 'duration_seconds')\n",
    "\n",
    "# Filtrar solo los viajes que ocurrieron en sábado ---\n",
    "df_sabados = df_07_filtrado[df_07_filtrado['start_ts'].dt.dayofweek == 5]  # 5 representa sábado\n",
    "\n",
    "# Dividir los viajes en dos grupos: días lluviosos (\"Bad\") y días sin lluvia (\"Good\") ---\n",
    "viajes_lluviosos = df_sabados[df_sabados['weather_conditions'] == 'Bad']['duration_seconds']\n",
    "viajes_no_lluviosos = df_sabados[df_sabados['weather_conditions'] == 'Good']['duration_seconds']\n",
    "\n",
    "# Verificar el tamaño de cada muestra ---\n",
    "print(\"\\nTamaño de muestras después de filtrar outliers:\")\n",
    "print(f\" - Viajes en sábados lluviosos: {len(viajes_lluviosos)}\")\n",
    "print(f\" - Viajes en sábados sin lluvia: {len(viajes_no_lluviosos)}\")\n",
    "\n",
    "# Verificar igualdad de varianzas con la prueba de Levene ---\n",
    "prueba_levene = stats.levene(viajes_lluviosos, viajes_no_lluviosos)\n",
    "print(\"\\nPrueba de Igualdad de Varianzas (Levene):\")\n",
    "print(f\" - Estadístico: {prueba_levene.statistic:.4f}\")\n",
    "print(f\" - p-valor: {prueba_levene.pvalue:.4f}\")\n",
    "\n",
    "# Aplicar la prueba t de Student ---\n",
    "t_stat, p_valor = stats.ttest_ind(viajes_lluviosos, viajes_no_lluviosos, equal_var=prueba_levene.pvalue > 0.05)\n",
    "\n",
    "# Mostrar resultados de la prueba t ---\n",
    "print(\"\\nPrueba t de Student:\")\n",
    "print(f\" - Estadístico t: {t_stat:.4f}\")\n",
    "print(f\" - p-valor: {p_valor:.4e}\")\n",
    "\n",
    "# Determinar la conclusión final ---\n",
    "if p_valor < 0.05:\n",
    "    print(\"\\nConclusión: Se rechaza la hipótesis nula (H₀). La duración del viaje cambia en sábados lluviosos.\")\n",
    "else:\n",
    "    print(\"\\nConclusión: No se rechaza la hipótesis nula (H₀). No hay evidencia de que la duración del viaje cambie en sábados lluviosos.\")\n",
    "\n",
    "\n",
    "#Conclusión: Se rechaza la hipótesis nula (H₀). La duración del viaje cambia en sábados lluviosos."
   ]
  },
  {
   "cell_type": "markdown",
   "metadata": {},
   "source": [
    "<div class=\"alert alert-block alert-success\">\n",
    "\n",
    "<b>Comentario del revisor</b> <a class=\"tocSkip\"></a>\n",
    "\n",
    "Excelente trabajo con el desarrollo de la prueba de hipótesis. Además, lo complementaste con la prueba de levene para mostrar el supuesto de varianzas iguales. "
   ]
  },
  {
   "cell_type": "markdown",
   "metadata": {},
   "source": [
    "Interpretación de los resultados\n",
    "\n",
    "- Tamaño de muestras:\n",
    "Se analizaron 180 viajes en sábados lluviosos y 888 viajes en sábados sin lluvia.\n",
    "Ambas muestras son suficientemente grandes para aplicar la prueba t de Student sin necesidad de verificar normalidad.\n",
    "\n",
    "\n",
    "- Prueba de Normalidad (Shapiro-Wilk):\n",
    "No se realizó porque ambas muestras tienen más de 50 datos, por lo que asumimos normalidad según el Teorema del Límite Central.\n",
    "\n",
    "\n",
    "- Prueba de Igualdad de Varianzas (Levene):\n",
    "p-valor = 0.5332 → Las varianzas son iguales (ya que p > 0.05).\n",
    "Esto permite usar la versión estándar de la prueba t de Student.\n",
    "\n",
    "\n",
    "- Prueba t de Student:\n",
    "t = 6.9461, p-valor = 6.51e-12 (extremadamente pequeño).\n",
    "Como p < 0.05, rechazamos la hipótesis nula (H₀)."
   ]
  },
  {
   "cell_type": "markdown",
   "metadata": {},
   "source": [
    "### Conclusión\n",
    "\n",
    "La duración promedio de los viajes desde el Loop hasta O'Hare cambia en los sábados lluviosos. Tambien, el tiempo de viaje en sábados lluviosos es significativamente diferente al de sábados sin lluvia.El clima afecta el tiempo de traslado, lo que puede ser útil para planificar estrategias de movilidad y optimización de rutas en días lluviosos.\n",
    " Este análisis confirma que los factores climáticos impactan el tráfico y la eficiencia del transporte en Chicago"
   ]
  },
  {
   "cell_type": "markdown",
   "metadata": {},
   "source": [
    "<div class=\"alert alert-block alert-warning\">\n",
    "<b>Comentario revisor</b> <a class=\"tocSkip\"></a>\n",
    "\n",
    "Felipe, en general, considero que realizaste un excelente trabajo con el proyecto. Lograste limpiar y organizar las bases de datos eficazmente. Además, tu análisis exploratorio fue exhaustivo, presentando resultados relevantes que serán muy útiles para la toma de decisiones. También, desarrollaste las pruebas de hipótesis de manera acertada. Sin embargo, siempre hay espacio para mejorar y quisiera señalar algunos aspectos que podrías considerar:\n",
    "\n",
    "\n",
    "\n",
    "    \n",
    "*  Realizar análisis complementarios eliminando los valores que parecen ser atípicos.    \n",
    "    \n",
    "    "
   ]
  }
 ],
 "metadata": {
  "ExecuteTimeLog": [
   {
    "duration": 838,
    "start_time": "2025-03-05T03:33:25.377Z"
   },
   {
    "duration": 65,
    "start_time": "2025-03-05T03:34:32.657Z"
   },
   {
    "duration": 5,
    "start_time": "2025-03-05T04:28:58.775Z"
   },
   {
    "duration": 8,
    "start_time": "2025-03-05T20:15:10.328Z"
   }
  ],
  "kernelspec": {
   "display_name": "Python 3 (ipykernel)",
   "language": "python",
   "name": "python3"
  },
  "language_info": {
   "codemirror_mode": {
    "name": "ipython",
    "version": 3
   },
   "file_extension": ".py",
   "mimetype": "text/x-python",
   "name": "python",
   "nbconvert_exporter": "python",
   "pygments_lexer": "ipython3",
   "version": "3.9.19"
  },
  "toc": {
   "base_numbering": 1,
   "nav_menu": {},
   "number_sections": true,
   "sideBar": true,
   "skip_h1_title": true,
   "title_cell": "Table of Contents",
   "title_sidebar": "Contents",
   "toc_cell": false,
   "toc_position": {
    "height": "calc(100% - 180px)",
    "left": "10px",
    "top": "150px",
    "width": "241px"
   },
   "toc_section_display": true,
   "toc_window_display": true
  }
 },
 "nbformat": 4,
 "nbformat_minor": 2
}
